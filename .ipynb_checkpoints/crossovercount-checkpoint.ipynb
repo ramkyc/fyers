{
 "cells": [
  {
   "cell_type": "code",
   "execution_count": null,
   "id": "ff89b898-2328-4f47-ad15-25db6d43d265",
   "metadata": {},
   "outputs": [],
   "source": [
    "import pandas as pd\n",
    "import pytz\n",
    "import feather"
   ]
  },
  {
   "cell_type": "code",
   "execution_count": null,
   "id": "b56c3bf2-eef5-4f89-8c0a-7bb8aa9dc8be",
   "metadata": {},
   "outputs": [],
   "source": [
    "!pip install feather"
   ]
  },
  {
   "cell_type": "code",
   "execution_count": null,
   "id": "d29b4b8d-c141-4b26-bfc7-903076382d0c",
   "metadata": {},
   "outputs": [],
   "source": [
    "# Step 1: Get the tick data for the asset of interest:\n",
    "df = pd.read_feather(\"/Users/ramakrishna/KoofrDrive/Personal/Trading Reports/Backtest-PAT/sep13/ticks_sep13.feather\")\n",
    "                # names = [\"time\", \"ltp\", \"symbol\", \"exchange\", \"open\", \"high\", \"low\", \"close \"])\n",
    "                # We assign the column names while reading the csv itself.  Applies when reading csv or tsv files.\n",
    "\n",
    "# Make the time column a datetime column\n",
    "df['time'] = pd.to_datetime(df['time'])\n",
    "\n",
    "# Check the time column type and ensure that it is: '<M8[ns]'\n",
    "# df['time'].dtype\n",
    "\n",
    "# Set the time column as the index for the data frame\n",
    "df.set_index(\"time\", inplace=True)\n",
    "\n",
    "# Separate out the asset of interest.\n",
    "df = df[df['symbol'] == 'FINNIFTY2491723700CE'].copy()\n",
    "\n",
    "# Save the asset of interest as a feather file locally\n",
    "feather.write_dataframe(df, \"Finnifty17SEP24_23700CE.feather\")\n",
    "\n",
    "# Then finally read the data from the seggregated file\n",
    "df = pd.read_feather(\"Finnifty17SEP24_23700CE.feather\")"
   ]
  },
  {
   "cell_type": "code",
   "execution_count": null,
   "id": "0ccc5bb1-db01-4d81-8e39-bdb09db68a44",
   "metadata": {},
   "outputs": [],
   "source": [
    "# Step 2: Prepare an ohlc grouping for a period of interest.  Eg: 5 Min, 15 Min or 1 Hour etc.\n",
    "\n",
    "# Create a column that shows the grouping of interest \n",
    "df['1Min_group'] = df.index.floor('1min')\n",
    "\n",
    "# Resample to intervals of interest, calculate OHLC and create a new data frame.\n",
    "df_ohlc = df.resample('1min', on='1Min_group').agg({'ltp': ['first', 'max', 'min', 'last']})\n",
    "\n",
    "# Rename columns of this new data frame\n",
    "df_ohlc.columns = ['open', 'high', 'low', 'close']\n",
    "\n",
    "# Indentify Green and Red Candles on 1 minute basis\n",
    "df_ohlc['color'] = 'green'\n",
    "df_ohlc.loc[df_ohlc['close'] < df_ohlc['open'], 'color'] = 'red'\n",
    "\n",
    "# If we want to count the number of red candles in a day, we can do so using the following commands.\n",
    "# red_count = df_ohlc['color'].value_counts()['red']\n",
    "# print(red_count)"
   ]
  },
  {
   "cell_type": "code",
   "execution_count": null,
   "id": "f9600799-9aef-4170-9a9b-4bc45e9a1d03",
   "metadata": {},
   "outputs": [],
   "source": []
  },
  {
   "cell_type": "code",
   "execution_count": null,
   "id": "43b8d02b-9148-41e8-a49a-df5ce479f7be",
   "metadata": {},
   "outputs": [],
   "source": [
    "# Step 3: Merge the tick data time, ltp columns with the ohlc grouping\n",
    "merged_df = pd.merge(df, df_ohlc, left_index=True, right_index=True, how='left')\n",
    "\n",
    "# Fill the NaN values\n",
    "merged_df = merged_df.ffill()\n",
    "\n",
    "# Rename columns:\n",
    "merged_df = merged_df.rename(columns={merged_df.columns[6]: 'close_x'})\n",
    "merged_df = merged_df.rename(columns={merged_df.columns[11]: 'close_y'})"
   ]
  },
  {
   "cell_type": "code",
   "execution_count": null,
   "id": "d4716556-43b6-4a83-b143-5781e3ea42d0",
   "metadata": {},
   "outputs": [],
   "source": [
    "merged_df.head(50)"
   ]
  },
  {
   "cell_type": "code",
   "execution_count": null,
   "id": "9c631c7d-b5e4-411f-9464-bc6a08f7cc3f",
   "metadata": {},
   "outputs": [],
   "source": [
    "merged_df.tail()"
   ]
  },
  {
   "cell_type": "code",
   "execution_count": null,
   "id": "91eefccb-6713-456b-998a-266af99836bb",
   "metadata": {},
   "outputs": [],
   "source": [
    "# Step 4: Fill the ohlc side NaNs with appropriate ohlc values\n",
    "# Assuming 'time' is your time-based index\n",
    "start_time = pd.Timestamp('2024-09-13 09:29:16')\n",
    "end_time = pd.Timestamp('2024-09-13 09:30:00')\n",
    "\n",
    "# Filter the DataFrame based on time\n",
    "filtered_df = merged_df[(merged_df.index >= start_time) & (df.index <= end_time)]\n",
    "\n",
    "# Find the minimum ltp value\n",
    "min_ltp = filtered_df['ltp'].min()\n",
    "max_ltp = filtered_df['ltp'].max()\n",
    "open_ltp = filtered_df['ltp'].iloc[0]\n",
    "last_ltp = filtered_df['ltp'].iloc[49]\n",
    "print(open_ltp)\n",
    "print(max_ltp)\n",
    "print(min_ltp)\n",
    "print(last_ltp)\n",
    "\n",
    "# Ensure row indices exist (optional)\n",
    "if not (0 in merged_df.index and 49 in merged_df.index):\n",
    "    print(\"Warning: Row indices 0 and 49 might not be present in the DataFrame.\")\n",
    "\n",
    "# Use .iloc for position-based assignment\n",
    "merged_df.iloc[0:49, merged_df.columns.get_loc('open_y')] = open_ltp\n",
    "merged_df.iloc[0:49, merged_df.columns.get_loc('high_y')] = max_ltp\n",
    "merged_df.iloc[0:49, merged_df.columns.get_loc('low_y')] = min_ltp\n",
    "merged_df.iloc[0:49, merged_df.columns.get_loc('close_y')] = last_ltp  # Adjusted for clarity\n",
    "merged_df.iloc[0:49, merged_df.columns.get_loc('color')] = 'red'\n",
    "\n",
    "\n",
    "# Print the modified DataFrame to verify\n",
    "merged_df.head(50)"
   ]
  },
  {
   "cell_type": "code",
   "execution_count": null,
   "id": "f7b73161-44ea-49df-b952-df5a369eb66e",
   "metadata": {},
   "outputs": [],
   "source": [
    "# Step 5: Seggregate Green and Red candles based ion the timeframe chosen\n",
    "\n",
    "merged_df['color'] = 'green'\n",
    "merged_df.loc[merged_df['close_y'] < merged_df['open_y'], 'color'] = 'red'\n",
    "\n",
    "# Count green and red candles\n",
    "green_count = merged_df[merged_df['color'] == 'green'].shape[0]\n",
    "red_count = merged_df[merged_df['color'] == 'red'].shape[0]\n",
    "\n",
    "# Segregate green and red candles\n",
    "green_df = merged_df[merged_df['color'] == 'green']\n",
    "red_df = merged_df[merged_df['color'] == 'red']\n",
    "\n",
    "print(\"Green candles:\", green_count)\n",
    "print(\"Red candles:\", red_count)\n"
   ]
  },
  {
   "cell_type": "code",
   "execution_count": null,
   "id": "8ef7238c-368c-45db-be91-27f01c8a0ec7",
   "metadata": {},
   "outputs": [],
   "source": [
    "# Assuming '1Min_group' is your 1-minute grouping column\n",
    "merged_df['color'] = 'green'\n",
    "merged_df.loc[merged_df['close_y'] < merged_df['open_y'], 'color'] = 'red'\n",
    "\n",
    "# Group by 1-minute intervals and count\n",
    "green_count = merged_df[merged_df['color'] == 'green'].groupby('1Min_group').size()\n",
    "red_count = merged_df[merged_df['color'] == 'red'].groupby('1Min_group').size()\n",
    "\n",
    "print(\"Green candles per 1-minute group:\")\n",
    "print(green_count)\n",
    "\n",
    "print(\"Red candles per 1-minute group:\")\n",
    "print(red_count)"
   ]
  },
  {
   "cell_type": "code",
   "execution_count": null,
   "id": "a02a9638-6451-46ef-98e3-3b55602a33bc",
   "metadata": {},
   "outputs": [],
   "source": [
    "# Step 6: Count the instances of ltp going above the Open\n",
    "\n",
    "merged_df['prev_ltp'] = merged_df['ltp'].shift(1)\n",
    "mask = (merged_df['ltp'] > merged_df['open_y']) & (merged_df['ltp'] > merged_df['prev_ltp'])\n",
    "upward_crossings = merged_df[mask].groupby('1Min_group').size()\n",
    "\n",
    "print(upward_crossings)\n",
    "\n"
   ]
  },
  {
   "cell_type": "code",
   "execution_count": null,
   "id": "49ab6424-e54b-425f-a763-d82c594a7df3",
   "metadata": {},
   "outputs": [],
   "source": [
    "# Step 6A: Count the instances of ltp making lower lows within the given timeframe\n",
    "\n"
   ]
  },
  {
   "cell_type": "code",
   "execution_count": null,
   "id": "666db93d-6a1b-4e76-9f12-17207e5fec9d",
   "metadata": {},
   "outputs": [],
   "source": [
    "upward_crossings.to_excel('Finnifty17SEP24_23700CE_1Min_Crossings.xlsx', index=True, header=True)"
   ]
  }
 ],
 "metadata": {
  "kernelspec": {
   "display_name": "Python 3 (ipykernel)",
   "language": "python",
   "name": "python3"
  },
  "language_info": {
   "codemirror_mode": {
    "name": "ipython",
    "version": 3
   },
   "file_extension": ".py",
   "mimetype": "text/x-python",
   "name": "python",
   "nbconvert_exporter": "python",
   "pygments_lexer": "ipython3",
   "version": "3.13.0"
  }
 },
 "nbformat": 4,
 "nbformat_minor": 5
}
