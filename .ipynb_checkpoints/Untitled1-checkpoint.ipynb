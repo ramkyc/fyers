{
 "cells": [
  {
   "cell_type": "markdown",
   "id": "4bc0d1ea-3c83-4f02-9af5-5b1ae4813254",
   "metadata": {},
   "source": [
    "import zstandard as zstd\n",
    "import pandas as pd\n",
    "from datetime import timezone, datetime as dt\n"
   ]
  },
  {
   "cell_type": "code",
   "execution_count": null,
   "id": "9c7708b8-cac2-4aed-b622-0e64371150d0",
   "metadata": {},
   "outputs": [],
   "source": [
    "def create_df_from_zip(file_name):\n",
    "    return pd.read_pickle(file_name, compression='zstd')\n",
    "\n",
    "def ticks_for_token(token, df):\n",
    "    return df[token]\n",
    "\n",
    "def ticks_for_token_and_time(token, start_time, end_time, df):\n",
    "    ticks = ticks_for_token(token, df)\n",
    "    return [tick[1] for tick in ticks_for_token(token, df) if start_time <= tick[0] <= end_time]\n",
    "\n",
    "if __name__ == \"__main__\":\n",
    "    # Parse args\n",
    "    file_name = '/Users/ramakrishna/Downloads/Telegram Desktop Downloads/2024-10-07_tick_data/tick_data_finnifty_midcapnifty_2024-10-07.zip'\n",
    "    token = 12140290  # Get it from Actions / Positions file\n",
    "    start_time = dt.fromisoformat('2024-10-07T15:02:36') # Time is UTC format in our Actions / Positions files.  Hence need to convert\n",
    "    end_time = dt.fromisoformat('2024-10-07T15:02:38') # Time is UTC format in our Actions / Positions files.  Hence need to convert\n",
    "\n",
    "    # Get ticks between time stamps\n",
    "    df = create_df_from_zip(file_name)\n",
    "    ticks = ticks_for_token_and_time(token, start_time, end_time, df)\n",
    "    print(ticks)"
   ]
  }
 ],
 "metadata": {
  "kernelspec": {
   "display_name": "Python 3 (ipykernel)",
   "language": "python",
   "name": "python3"
  },
  "language_info": {
   "codemirror_mode": {
    "name": "ipython",
    "version": 3
   },
   "file_extension": ".py",
   "mimetype": "text/x-python",
   "name": "python",
   "nbconvert_exporter": "python",
   "pygments_lexer": "ipython3",
   "version": "3.12.7"
  }
 },
 "nbformat": 4,
 "nbformat_minor": 5
}
