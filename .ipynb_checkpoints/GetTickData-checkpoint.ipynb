{
 "cells": [
  {
   "cell_type": "code",
   "execution_count": null,
   "id": "e10c0eb9-7f21-470a-96ca-265221cda05a",
   "metadata": {},
   "outputs": [],
   "source": [
    "import zstandard as zstd\n",
    "import pandas as pd\n",
    "from datetime import timezone, datetime as dt\n",
    "\n",
    "\n"
   ]
  },
  {
   "cell_type": "code",
   "execution_count": null,
   "id": "9aa0863e-78c2-4055-b8ce-e304a051ae72",
   "metadata": {},
   "outputs": [],
   "source": [
    "def create_df_from_zip(file_name):\n",
    "    return pd.read_pickle(file_name, compression='zstd')\n",
    "\n",
    "def ticks_for_token(token, df):\n",
    "    return df[token]\n",
    "\n",
    "def ticks_for_token_and_time(token, start_time, end_time, df):\n",
    "    ticks = ticks_for_token(token, df)\n",
    "    return [tick[1] for tick in ticks_for_token(token, df) if start_time <= tick[0] <= end_time]\n",
    "\n",
    "if __name__ == \"__main__\":\n",
    "    # Parse args\n",
    "    file_name = \"'/Users/ramakrishna/Downloads/Telegram Desktop Downloads/2024-10-07_tick_data/tick_data_finnifty_midcapnifty_2024-10-07.zip'\"\n",
    "    token = 12140290  # Get it from Actions / Positions file\n",
    "    start_time = dt.fromisoformat('2024-10-07T15:02:36') # Time is UTC format\n",
    "    end_time = dt.fromisoformat('2024-10-07T15:02:38') # Time is UTC format\n",
    "\n",
    "    # Get ticks between time stamps\n",
    "    df = create_df_from_zip(file_name)\n",
    "    ticks = ticks_for_token_and_time(token, start_time, end_time, df)\n",
    "    print(ticks)"
   ]
  }
 ],
 "metadata": {
  "kernelspec": {
   "display_name": "Python 3 (ipykernel)",
   "language": "python",
   "name": "python3"
  },
  "language_info": {
   "name": ""
  }
 },
 "nbformat": 4,
 "nbformat_minor": 5
}
