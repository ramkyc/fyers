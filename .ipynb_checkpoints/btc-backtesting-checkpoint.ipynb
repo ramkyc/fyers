{
 "cells": [
  {
   "cell_type": "code",
   "execution_count": null,
   "id": "62fae9dc-94ac-4677-96f3-b8c6815a9fd9",
   "metadata": {},
   "outputs": [],
   "source": [
    "import pandas as pd, numpy as np\n",
    "\n",
    "import talib\n",
    "\n",
    "from backtesting import Backtest, Strategy\n",
    "\n",
    "from backtesting.test import GOOG\n",
    "\n",
    "backtesting.set_bokeh_output(notebook=False)\n",
    "\n",
    "from backtesting.lib import crossover"
   ]
  },
  {
   "cell_type": "code",
   "execution_count": null,
   "id": "9a970116-d5d6-43c1-a768-b03cd3feb482",
   "metadata": {
    "editable": true,
    "slideshow": {
     "slide_type": ""
    },
    "tags": []
   },
   "outputs": [],
   "source": [
    "class RsiOscillator(Strategy):\n",
    "\n",
    "    upper_bound = 70\n",
    "    lower_bound = 30\n",
    "\n",
    "    def init(self):\n",
    "        self.rsi = self.I(talib.RSI, self.data.Close, 14)\n",
    "\n",
    "    def next(self):\n",
    "\n",
    "        if crossover(self.rsi, self.upper_bound):\n",
    "            self.position.close()\n",
    "        elif crossover(self.lower_bound, self.rsi):\n",
    "            self.buy()\n",
    "\n",
    "bt = Backtest(GOOG, RsiOscillator, cash = 10_000)\n",
    "\n",
    "stats = bt.run()\n",
    "\n",
    "print(stats)\n",
    "\n",
    "bt.plot()"
   ]
  },
  {
   "cell_type": "markdown",
   "id": "24aa8d8f-5f7a-47e9-a567-a31bb406263e",
   "metadata": {},
   "source": [
    "# To add notes\n",
    "## Notes\n",
    "Let us write a strategy.\n",
    "The strategy you will write out is a class which extends the Strategy class that we imported.\n",
    "We have a class called RSIOscillator(Strategy):  We will inherit from Strategy.\n",
    "There are two functions that we need to worry about here:\n",
    "The init function and the next function.\n",
    "\n",
    "To add notes between cells in a Jupyter Notebook, you can create a Markdown cell and add text using Markdown syntax:\n",
    "Click the + button in the toolbar or press Esc and then M on your keyboard to create a new cell\n",
    "Change the cell type to Markdown\n",
    "Start typing your text using Markdown syntax \n",
    "You can use Markdown to format documentation in your Jupyter notebook. Here are some Markdown formatting tips: \n",
    "Notebook titles and section headings: Use the number sign (#) followed by a blank space. For example, # for titles, ## for major headings, ### for subheadings, and #### for 4th level subheadings. \n",
    "Headers: Use hashes (#, ##, ###, ...). \n",
    "Unordered lists: Use asterisks, pluses, and hyphens (*, +, and -) as list markers. \n",
    "Emphasis: Use asterisks and underscores to indicate spans of emphasis. \n",
    "Blockquotes: Use a > at the beginning of the line. \n",
    "You can also edit a Markdown cell by double-clicking it or pressing Enter and starting typing. To preview the output, press Shift Enter. "
   ]
  },
  {
   "cell_type": "code",
   "execution_count": null,
   "id": "7f70f64e-255c-4c19-882d-4fb0032dd3fc",
   "metadata": {},
   "outputs": [],
   "source": [
    "\n"
   ]
  },
  {
   "cell_type": "code",
   "execution_count": null,
   "id": "77e23fa6-d244-484a-a89f-95c3f44a93d2",
   "metadata": {},
   "outputs": [],
   "source": [
    "!pip uninstall yliveticker"
   ]
  },
  {
   "cell_type": "code",
   "execution_count": null,
   "id": "741c2081-7e84-4dc3-8fcc-c49977f3f656",
   "metadata": {},
   "outputs": [],
   "source": [
    "import yliveticker\n",
    "\n",
    "\n",
    "# this function is called on each ticker update\n",
    "def on_new_msg(ws, msg):\n",
    "    print(msg)\n",
    "\n",
    "\n",
    "yliveticker.YLiveTicker(on_ticker=on_new_msg, ticker_names=[\n",
    "    \"BTC=X\", \"^GSPC\", \"^DJI\", \"^IXIC\", \"^RUT\", \"CL=F\", \"GC=F\", \"SI=F\", \"EURUSD=X\", \"^TNX\", \"^VIX\", \"GBPUSD=X\", \"JPY=X\", \"BTC-USD\", \"^CMC200\", \"^FTSE\", \"^N225\"])"
   ]
  }
 ],
 "metadata": {
  "kernelspec": {
   "display_name": "Python 3 (ipykernel)",
   "language": "python",
   "name": "python3"
  },
  "language_info": {
   "codemirror_mode": {
    "name": "ipython",
    "version": 3
   },
   "file_extension": ".py",
   "mimetype": "text/x-python",
   "name": "python",
   "nbconvert_exporter": "python",
   "pygments_lexer": "ipython3",
   "version": "3.12.7"
  }
 },
 "nbformat": 4,
 "nbformat_minor": 5
}
